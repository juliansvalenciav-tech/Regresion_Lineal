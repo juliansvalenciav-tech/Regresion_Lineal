{
  "cells": [
    {
      "cell_type": "markdown",
      "metadata": {
        "id": "Ii_7DdtJH8e2"
      },
      "source": [
        "# Taller 3: Regresión Lineal y Conceptos Fundamentales\n",
        "\n",
        "\n"
      ],
      "id": "Ii_7DdtJH8e2"
    },
    {
      "cell_type": "markdown",
      "metadata": {
        "id": "1KuTZ6PkH8e5"
      },
      "source": [
        "## Instrucciones Generales\n",
        "\n",
        "**Fecha de entrega:** 20 de septiembre.\n",
        "**Tiempo disponible:** Tienen dos clases y el fin de semana para completar el taller.\n",
        "\n",
        "1.  **Trabajo en Grupo:** Este taller se debe realizar en los grupos previamente definidos.\n",
        "2.  **Repositorio en GitHub:** Cada grupo debe crear un repositorio en GitHub.\n",
        "    * Una sola persona del grupo es responsable de crearlo.\n",
        "    * El repositorio debe llamarse **`Regresion_Lineal`**.\n",
        "    * Este archivo debe ser subido al repositorio con el nombre **`Regresion_Lineal.ipynb`**.\n",
        "    * **Alternativa:** Si tienen complicaciones con GitHub, pueden enviar el enlace del cuaderno de Google Colab al aula virtual.\n",
        "3.  **Actividad a Mano (20% de la nota):**\n",
        "    * La asistencia a clase es **obligatoria**.\n",
        "    * Se realizará una actividad práctica de regresión lineal a mano.\n",
        "    * Cada integrante del grupo deberá firmar la hoja de la actividad, la cual constituye el 20% de la nota de este taller."
      ],
      "id": "1KuTZ6PkH8e5"
    },
    {
      "cell_type": "markdown",
      "metadata": {
        "id": "mgaEeFAbH8e7"
      },
      "source": [
        "---"
      ],
      "id": "mgaEeFAbH8e7"
    },
    {
      "cell_type": "markdown",
      "metadata": {
        "id": "et22XL5bH8e7"
      },
      "source": [
        "## **Parte 1: Definición del Problema**\n",
        "\n",
        "Piensa en tu experiencia académica o laboral en un área de operaciones y elige **un problema** relacionado con inventarios, calidad, mantenimiento o productividad.\n",
        "\n",
        "1.  Indica cuál es tu variable dependiente **$Y$** (aquello que quieres predecir o clasificar).\n",
        "2.  Lista entre 3 y 5 variables independientes **$X$** que medirías para predecir $Y$.\n",
        "3.  Especifica si tu problema es de **regresión** (predecir un valor numérico) o de **clasificación**."
      ],
      "id": "et22XL5bH8e7"
    },
    {
      "cell_type": "markdown",
      "metadata": {
        "id": "pxSLPR4AH8e8"
      },
      "source": [
        "**Respuesta (escribe aquí):**\n",
        "\n",
        "Problema: Control de inventario de muebles de exhibición (POP duro) en bodega.\n",
        "\n",
        "**Respuesta 1:**\n",
        "La dependiente (Y): Nivel de inventario óptimo de muebles de exhibición (unidades disponibles).\n",
        "\n",
        "\n",
        "\n",
        "**Respuesta 2:**\n",
        "\n",
        "Variables independientes (X):\n",
        "\n",
        "1. Demanda estimada de muebles por punto de venta y campaña.\n",
        "\n",
        "2. Tiempo de fabricación y entrega del mueble.\n",
        "\n",
        "3. Cronograma de lanzamientos o activaciones de marketing.\n",
        "\n",
        "4. Espacio disponible en bodega y en punto de venta.\n",
        "\n",
        "**Respuesta 3:**\n",
        "\n",
        "Tipo de problema: Regresión\n",
        "\n",
        "predecir cuántos muebles se deben tener listos para cumplir con la demanda"
      ],
      "id": "pxSLPR4AH8e8"
    },
    {
      "cell_type": "markdown",
      "metadata": {
        "id": "fGoj1KxxH8e8"
      },
      "source": [
        "---"
      ],
      "id": "fGoj1KxxH8e8"
    },
    {
      "cell_type": "markdown",
      "metadata": {
        "id": "eHOtOSQiH8e9"
      },
      "source": [
        "## **Parte 2: Preprocesamiento de Datos y *Leakage***\n",
        "\n",
        "Basado en el caso que definiste en la Parte 1:\n",
        "\n",
        "1.  Lista entre 3 y 5 **transformaciones** que aplicarías a tus datos (ej. imputación de valores faltantes, codificación de variables categóricas, escalado, creación de *lags*, etc.) y **justifica por qué** cada una es necesaria.\n",
        "2.  Señala un posible riesgo de ***data leakage*** (fuga de datos) en tu plan y explica cómo lo evitarías usando un *pipeline* de preprocesamiento."
      ],
      "id": "eHOtOSQiH8e9"
    },
    {
      "cell_type": "markdown",
      "metadata": {
        "id": "6KYkmr9mH8e9"
      },
      "source": [
        "**Respuesta (escribe aquí):**\n",
        "Para el caso de los muebles de exhibición (POP duro), estas son las transformaciones que yo haría a los datos antes de entrenar el modelo:\n",
        "\n",
        "1. Revisar si hay datos vacíos y llenarlos (por ejemplo, si falta el tiempo de entrega usar el promedio).\n",
        " 2. Cambiar las categorías de texto (tipo de mueble) por columnas con 0 y 1 para que el modelo las entienda.\n",
        " 3. Normalizar los valores numéricos para que todas las variables estén en un rango parecido\n",
        "   (por ejemplo, que el modelo no le dé más peso al espacio de bodega solo porque es un número más grande).\n",
        "4. Separar los datos en entrenamiento y prueba para no entrenar con toda la información.\n",
        "\n",
        "Riesgo de Data Leakage:\n",
        "\n",
        " Un posible problema sería usar la información de todo el dataset para calcular los promedios antes de separarlo en entrenamiento y prueba. Esto podría hacer que el modelo \"vea el futuro\".\n",
        "\n",
        "Para evitarlo, haría el cálculo de promedios y la normalización SOLO usando los datos de entrenamiento dentro de un pipeline, y después aplico esa misma transformación a los datos de prueba.\n"
      ],
      "id": "6KYkmr9mH8e9"
    },
    {
      "cell_type": "markdown",
      "metadata": {
        "id": "hbyCKrY6H8e-"
      },
      "source": [
        "---"
      ],
      "id": "hbyCKrY6H8e-"
    },
    {
      "cell_type": "markdown",
      "metadata": {
        "id": "ukCTM2EKH8e-"
      },
      "source": [
        "## **Parte 3: Interpretación y Métricas de Regresión Simple**\n",
        "\n",
        "Para esta sección, elige un caso simple de regresión (puede ser el tuyo o uno hipotético, como predecir la demanda de un producto según su precio).\n",
        "\n",
        "1.  Define claramente las variables **$Y$** y **$X$** junto con sus **unidades** (ej. $Y$: número de unidades vendidas, $X$: precio en dólares).\n",
        "2.  Supón que entrenas un modelo y obtienes una pendiente de **$\\hat{\\beta}_1 = -0.6$**. Escribe una interpretación clara y concisa de este coeficiente en el contexto de tu problema.\n",
        "3.  ¿Qué **métrica** de evaluación usarías (MAE, RMSE, o MAPE) y **por qué** es la más adecuada para tu caso?\n",
        "4.  Menciona **un supuesto** del modelo de regresión lineal que validarías (ej. linealidad, homocedasticidad) y explica **cómo** lo harías (usando un gráfico o una prueba estadística)."
      ],
      "id": "ukCTM2EKH8e-"
    },
    {
      "cell_type": "markdown",
      "metadata": {
        "id": "5KGzW8pSH8e_"
      },
      "source": [
        "**Respuesta (escribe aquí):**\n",
        "\n",
        " Dividir los datos en entrenamiento y prueba\n",
        "Esto lo hacemos para que el modelo aprenda con una parte de los datos y luego podamos ver si funciona bien con datos que nunca ha visto.\n",
        "\n",
        "\n",
        "Interpretación del coeficiente β¹ = −0.6\n",
        "\n",
        "Si en mi modelo la pendiente es −0.6, significa que por cada unidad que aumenta la variable independiente, la variable dependiente (por ejemplo, tiempo de entrega de los muebles) disminuye en 0.6 unidades, manteniendo las demás variables constantes.\n",
        "\n",
        "En mi caso, si esa variable independiente fuera “espacio disponible en bodega” (medido en m²), entonces cuando hay más espacio en bodega, el tiempo de entrega tiende a bajar (porque es más fácil ubicar y despachar los muebles).\n",
        "\n",
        "Métrica de evaluación\n",
        "\n",
        "Usaría RMSE (Root Mean Squared Error) porque mi problema es de regresión (estoy prediciendo un valor numérico como el tiempo de entrega).\n",
        "\n",
        "Me gusta RMSE porque penaliza más los errores grandes, y en mi caso me interesa detectar si el modelo se equivoca mucho en algunos pedidos (por ejemplo, si predice 3 días de entrega pero en realidad fueron 15, eso es grave).\n",
        "\n",
        "Supuesto del modelo de regresión lineal\n",
        "\n",
        "Validaría la homocedasticidad, que significa que los errores del modelo deben tener la misma variabilidad en todos los niveles de la predicción.\n",
        "\n",
        "Lo revisaría haciendo un gráfico de dispersión de los residuos vs los valores ajustados en Colab. Si veo que los puntos están distribuidos de forma aleatoria (como una nube sin patrón), entonces el supuesto se cumple. Si veo que forman un cono o algún patrón, podría haber heterocedasticidad y tendría que ajustar el modelo."
      ],
      "id": "5KGzW8pSH8e_"
    },
    {
      "cell_type": "markdown",
      "metadata": {
        "id": "NlCf92svH8e_"
      },
      "source": [
        "---"
      ],
      "id": "NlCf92svH8e_"
    },
    {
      "cell_type": "markdown",
      "metadata": {
        "id": "DEOrd_fSH8e_"
      },
      "source": [
        "## **Parte 4: Regresión Múltiple y Colinealidad**\n",
        "\n",
        "Volviendo a tu caso de la Parte 1 (con múltiples variables).\n",
        "\n",
        "1.  Escribe el **vector de variables** $\\vec{X}$ y la **respuesta** $Y$.\n",
        "2.  Explica cómo interpretarías el **coeficiente** de una de tus variables clave (incluyendo unidades y el sentido de la relación: positiva o negativa).\n",
        "3.  Si sospecharas que existe **colinealidad** entre tus variables, menciona **dos acciones** que podrías tomar para mitigarla."
      ],
      "id": "DEOrd_fSH8e_"
    },
    {
      "cell_type": "markdown",
      "metadata": {
        "id": "REUWPUP_H8fA"
      },
      "source": [
        "**Respuesta (escribe aquí):**\n",
        "\n",
        "\n",
        " 1) Vector de variables \\( \\vec{X} \\) y respuesta \\( Y \\)\n",
        "\n",
        "- Y: Nivel de inventario óptimo de muebles de exhibición (unidades en bodega).  \n",
        "- X:\n",
        "demanda_estim → demanda estimada por campaña (unidades)  \n",
        "lead_time → tiempo de fabricación + entrega (días)  \n",
        "freq_activaciones → número de activaciones/lanzamientos en el periodo (veces/mes)  \n",
        "espacio_bodega → espacio disponible en bodega (m² o unidades máximas)  demanda_lag1 → demanda en la campaña anterior (unidades)\n",
        "\n",
        " 2) Interpretación de un coeficiente (ejemplo)\n",
        "\n",
        "Supongamos que en la regresión el coeficiente asociado a lead_time es **β = 4.0**.\n",
        "\n",
        " Interpretación:\n",
        "\n",
        "Manteniendo las demás variables constantes, por cada día adicional de lead_time,  \n",
        "el inventario óptimo **aumenta en 4 unidades**.  \n",
        "\n",
        "Sentido de la relación: Positiva, porque si el proveedor tarda más en entregar,  \n",
        " debemos guardar más stock de seguridad para no quedarnos sin muebles.\n",
        "\n",
        "\n",
        "\n",
        " 3) Si sospecho colinealidad: dos acciones para mitigarla\n",
        "\n",
        "Problema: variables como demanda_estim, demanda_lag1 y `freq_activaciones` pueden estar muy correlacionadas,  \n",
        "lo que puede hacer inestables los coeficientes del modelo.\n",
        "\n",
        "Acción 1 — Diagnóstico y agrupación/eliminación:\n",
        "- Calcularía el VIF (Variance Inflation Factor) para cada variable.  \n",
        "- Si alguna tiene VIF alto (>5), la eliminaría o combinaría con otra similar  \n",
        "  (por ejemplo: crear una variable promedio de demanda que combine demanda_estim y demanda_lag1).\n",
        "\n",
        "Acción 2 — Regularización o reducción de dimensionalidad:\n",
        "- Usar Ridge Regression para reducir el efecto de variables muy correlacionadas  \n",
        "  y estabilizar los coeficientes.  \n",
        "- Alternativamente usar PCA para transformar las variables en componentes no correlacionados  \n",
        "  (aunque pierde un poco de interpretabilidad).\n",
        "\n",
        "\n"
      ],
      "id": "REUWPUP_H8fA"
    },
    {
      "cell_type": "markdown",
      "metadata": {
        "id": "Kfz2bBkzH8fA"
      },
      "source": [
        "---"
      ],
      "id": "Kfz2bBkzH8fA"
    },
    {
      "cell_type": "markdown",
      "metadata": {
        "id": "d0sQYW3DH8fA"
      },
      "source": [
        "## **Parte 5: Interacciones y Multicolinealidad (VIF)**\n",
        "\n",
        "1.  Plantea un caso con una variable $Y$ y entre 4 y 6 variables $X$. ¿Qué término de **interacción** entre dos variables podrías añadir al modelo y **por qué** crees que sería útil?\n",
        "2.  Si al calcular el Factor de Inflación de la Varianza (VIF) para una variable, obtienes un valor alto (ej. > 10), menciona **dos acciones** que podrías tomar para solucionarlo."
      ],
      "id": "d0sQYW3DH8fA"
    },
    {
      "cell_type": "markdown",
      "metadata": {
        "id": "tEgefQ1cH8fA"
      },
      "source": [
        "**Respuesta (escribe aquí):**\n",
        "\n",
        "Caso propuesto**\n",
        "\n",
        "- Y: nivel_inventario (nivel de inventario óptimo, unidades en bodega)  \n",
        "- X (4–6 variables):\n",
        "  - demanda_estim → demanda estimada por campaña (unidades)  \n",
        "  - lead_time → tiempo de fabricación + entrega (días)  \n",
        "  - freq_activaciones → número de activaciones/lanzamientos en el periodo (veces/mes)  \n",
        "  - espacio_bodega → espacio disponible en bodega (m²)  \n",
        "  - demanda_lag1 → demanda en la campaña anterior (unidades)\n",
        "\n",
        "\n",
        "\n",
        "1) Término de interacción sugerido\n",
        "\n",
        "**Interacción:** lead_time * freq_activaciones\n",
        "\n",
        "**Por qué la añadiría:**  \n",
        "- Tiene sentido operativo: cuando hay muchas activaciones en el periodo (freq_activaciones alta), el efecto de un lead_time largo sobre el inventario puede ser más fuerte (necesitamos más inventario de seguridad si además hay muchas campañas simultáneas).  \n",
        "- El término de interacción permite al modelo capturar que el impacto de `lead_time` sobre `nivel_inventario` **depende** de cuántas activaciones haya.\n",
        "\n",
        "**Cómo añadirlo\n",
        "```python\n",
        "# Suponiendo X es el DataFrame con las columnas ya cargadas\n",
        "X['lead_time_x_freq'] = X['lead_time'] * X['freq_activaciones']\n",
        "\n",
        "Acción A — Centrar variables y recalcular (especialmente si hay interacciones):\n",
        "\n",
        "Razonamiento: cuando creas términos de interacción (producto de dos variables) se aumenta la correlación entre la interacción y las variables originales, lo que eleva VIF.\n",
        "\n",
        "Solución práctica: restar la media a las variables antes de crear la interacción (mean-centering). Esto reduce la multicolinealidad entre términos principales e interacción y mejora la interpretabilidad del intercepto.\n",
        "# centrar antes de crear la interacción\n",
        "X['lead_time_c'] = X['lead_time'] - X['lead_time'].mean()\n",
        "X['freq_activaciones_c'] = X['freq_activaciones'] - X['freq_activaciones'].mean()\n",
        "X['lead_time_x_freq'] = X['lead_time_c'] * X['freq_activaciones_c']\n",
        "\n",
        "\n",
        "Acción B — Eliminar/combinar variables o usar regularización:\n",
        "\n",
        "Eliminar o combinar: si dos variables están casi redundantes (ej. demanda_estim y demanda_lag1 con muy alta correlación), considera combinarlas en una sola (promedio, índice) o quitar la que tenga menos sentido operacional.\n",
        "\n",
        "Regularización: aplicar Ridge (L2) reduce la varianza de coeficientes inestables causados por colinealidad sin necesidad de eliminar variables — es una opción práctica cuando quieres mantener predictividad.\n",
        "\n",
        "Después de cualquiera de estas acciones, vuelve a calcular VIF y comparar."
      ],
      "id": "tEgefQ1cH8fA"
    },
    {
      "cell_type": "markdown",
      "metadata": {
        "id": "8XdQIyu_H8fB"
      },
      "source": [
        "---"
      ],
      "id": "8XdQIyu_H8fB"
    },
    {
      "cell_type": "markdown",
      "metadata": {
        "id": "XKsr-uPlH8fB"
      },
      "source": [
        "# **Parte 6: Variables Categóricas e Interacciones**\n",
        "\n",
        "1.  Define una **variable categórica** para tu caso (puedes inventarla si no la tenías). Elige una de sus categorías como el nivel **base** o de referencia y **justifica** tu elección.\n",
        "2.  Crea una **interacción** entre una variable numérica y la variable categórica que definiste. Explica cómo se interpretaría el coeficiente de esta interacción."
      ],
      "id": "XKsr-uPlH8fB"
    },
    {
      "cell_type": "markdown",
      "metadata": {
        "id": "7i_JBwwbH8fC"
      },
      "source": [
        "**Respuesta (escribe aquí):**\n",
        "\n",
        "Para mi caso de los muebles de exhibición (POP duro) voy a crear una nueva variable categórica llamada **tipo_mueble** con tres posibles valores:\n",
        "- **temporal:** muebles sencillos que se usan en campañas cortas.\n",
        "- **modular:** muebles que se pueden armar y reutilizar.\n",
        "- **premium:** muebles de materiales más finos y costosos.\n",
        "\n",
        "\n",
        " 1) Nivel de referencia que elijo\n",
        "\n",
        "Yo escojo **temporal** como nivel de referencia porque es el que más usamos en las campañas, así puedo comparar si usar un mueble modular o premium me hace guardar más o menos inventario en bodega.\n",
        "\n",
        "\n",
        "\n",
        "2) Interacción con variable numérica\n",
        "\n",
        "Voy a crear una interacción entre `lead_time` (los días que se demora en llegar el mueble) y `tipo_mueble`.  \n",
        "Esto me sirve porque el efecto de un lead_time largo puede ser diferente si el mueble es premium o modular.\n",
        "\n",
        "Por ejemplo, si el coeficiente de la interacción `lead_time_x_premium` me sale **positivo**, quiere decir que cada día extra que se demora el proveedor hace que yo tenga que tener **todavía más inventario** cuando los muebles son premium, comparado con los temporales.  \n",
        "Si el coeficiente fuera negativo sería al revés (el efecto de más días de espera sería menor).\n",
        "\n",
        "\n",
        "\n",
        " 3) Código de ejemplo (pandas)\n",
        "\n",
        "```python\n",
        "import pandas as pd\n",
        "\n",
        "# Ejemplo de datos\n",
        "df = pd.DataFrame({\n",
        "    'lead_time': [10, 15, 20],\n",
        "    'tipo_mueble': ['temporal', 'modular', 'premium']\n",
        "})\n",
        "\n",
        "# Crear variables dummy (sin incluir temporal, que será mi base)\n",
        "df_encoded = pd.get_dummies(df, columns=['tipo_mueble'], drop_first=True)\n",
        "\n",
        "# Crear interacciones entre lead_time y las categorías (modular/premium)\n",
        "df_encoded['lead_time_x_modular'] = df_encoded['lead_time'] * df_encoded['tipo_mueble_modular']\n",
        "df_encoded['lead_time_x_premium'] = df_encoded['lead_time'] * df_encoded['tipo_mueble_premium']\n",
        "\n",
        "df_encoded"
      ],
      "id": "7i_JBwwbH8fC"
    },
    {
      "cell_type": "markdown",
      "metadata": {
        "id": "DjYrQWpqH8fC"
      },
      "source": [
        "---"
      ],
      "id": "DjYrQWpqH8fC"
    },
    {
      "cell_type": "markdown",
      "metadata": {
        "id": "mG9YJpeoH8fC"
      },
      "source": [
        "## **Parte 7: Conceptos Clave de Clasificación**\n",
        "\n",
        "Aunque el taller se centra en regresión, estos conceptos son fundamentales en Machine Learning.\n",
        "\n",
        "1.  Explica qué es la **curva ROC** y para qué se utiliza en un problema de clasificación.\n",
        "2.  Define el concepto de **accuracy** (exactitud) y menciona una situación en la que podría ser una métrica engañosa.\n",
        "3.  Describe qué es una **matriz de confusión** y cómo se interpretan sus componentes (Verdaderos Positivos, Falsos Positivos, Verdaderos Negativos, Falsos Negativos)."
      ],
      "id": "mG9YJpeoH8fC"
    },
    {
      "cell_type": "markdown",
      "metadata": {
        "id": "aq-cYN3nH8fD"
      },
      "source": [
        "**Respuesta (escribe aquí):**\n",
        "1) Curva ROC\n",
        "\n",
        "La **curva ROC** (Receiver Operating Characteristic) es un gráfico que sirve para evaluar modelos de clasificación.  \n",
        "- En el eje **X** está la tasa de falsos positivos (FPR).  \n",
        "- En el eje **Y** está la tasa de verdaderos positivos (TPR).  \n",
        "La idea es ver qué tan bien separa el modelo las dos clases.  \n",
        "Un modelo **perfecto** tendría la curva pegada a la esquina superior izquierda (TPR alto y FPR muy bajo).  \n",
        "El área bajo la curva (**AUC**) es un número entre 0 y 1: mientras más cerca de 1, mejor clasifica el modelo.\n",
        "\n",
        "\n",
        "\n",
        "2) Accuracy (Exactitud)\n",
        "\n",
        "El **accuracy** es la proporción de predicciones correctas que hace el modelo sobre el total de casos:\n",
        "\n",
        "\\[\n",
        "Accuracy = \\frac{\\text{Predicciones correctas}}{\\text{Total de predicciones}}\n",
        "\\]\n",
        "\n",
        "**Ejemplo donde puede engañar:**  \n",
        "Si tengo un modelo que predice si un mueble de exhibición falla en producción y el **95% nunca falla**, un modelo que diga “nunca falla” tendría 95% de accuracy, pero en realidad no sirve porque nunca detecta los fallos.  \n",
        "En esos casos es mejor usar otras métricas como precisión y recall.\n",
        "\n",
        "\n",
        "\n",
        "3) Matriz de Confusión\n",
        "\n",
        "La **matriz de confusión** es una tabla que compara lo que el modelo predijo contra lo que realmente pasó.  \n",
        "Tiene cuatro valores:\n",
        "\n",
        "- **Verdaderos Positivos (VP):** el modelo dijo \"sí\" y era \"sí\".  \n",
        "- **Falsos Positivos (FP):** el modelo dijo \"sí\" pero era \"no\".  \n",
        "- **Verdaderos Negativos (VN):** el modelo dijo \"no\" y era \"no\".  \n",
        "- **Falsos Negativos (FN):** el modelo dijo \"no\" pero era \"sí\".\n",
        "\n",
        "Con esta matriz se pueden calcular otras métricas como precisión, recall y F1-score.\n",
        "\n",
        " Ejemplo simple de matriz de confusión\n",
        "\n",
        "|                | **Real: Sí** | **Real: No** |\n",
        "|----------------|-------------|-------------|\n",
        "| **Predice: Sí**| VP          | FP          |\n",
        "| **Predice: No**| FN          | VN          |\n",
        "\n",
        "Esta tabla ayuda a ver en qué se está equivocando el modelo: si comete muchos FP (falsas alarmas) o muchos FN (no detecta los casos que debía detectar)."
      ],
      "id": "aq-cYN3nH8fD"
    }
  ],
  "metadata": {
    "kernelspec": {
      "display_name": "Python 3",
      "language": "python",
      "name": "python3"
    },
    "language_info": {
      "name": "python",
      "version": "3.x"
    },
    "colab": {
      "provenance": []
    }
  },
  "nbformat": 4,
  "nbformat_minor": 5
}